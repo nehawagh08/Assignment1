{
 "cells": [
  {
   "cell_type": "code",
   "execution_count": 11,
   "id": "10116706-1a46-494d-98e2-f7bd0bbd4d65",
   "metadata": {},
   "outputs": [
    {
     "name": "stdin",
     "output_type": "stream",
     "text": [
      " 50\n"
     ]
    },
    {
     "name": "stdout",
     "output_type": "stream",
     "text": [
      "0 1 1 2 3 5 8 13 21 34 55 89 144 233 377 610 987 1597 2584 4181 6765 10946 17711 28657 46368 75025 121393 196418 317811 514229 832040 1346269 2178309 3524578 5702887 9227465 14930352 24157817 39088169 63245986 102334155 165580141 267914296 433494437 701408733 1134903170 1836311903 2971215073 4807526976 7778742049 "
     ]
    }
   ],
   "source": [
    "#Write a Python program to get the Fibonacci series between 0 to 50\n",
    "'''\n",
    "Note : The Fibonacci Sequence is the series of numbers :\n",
    "\n",
    "0, 1, 1, 2, 3, 5, 8, 13, 21, ....\n",
    "\n",
    "Every next number is found by adding up the two numbers before it.\n",
    "\n",
    "Expected Output : 1 1 2 3 5 8 13 21 34\n",
    "'''\n",
    "n=int(input())\n",
    "if n<= 0:\n",
    "    print('please enter number greater than 0')\n",
    "else:\n",
    "    n1=0\n",
    "    n2=1\n",
    "    print(n1,n2,end=\" \")\n",
    "    for i in range(2,n):\n",
    "        n3=n1+n2\n",
    "        n1=n2\n",
    "        n2=n3\n",
    "        print(n3,end=\" \") "
   ]
  },
  {
   "cell_type": "code",
   "execution_count": null,
   "id": "f2011a63-fe84-4c5d-8ed1-d60e76c4a952",
   "metadata": {},
   "outputs": [],
   "source": []
  }
 ],
 "metadata": {
  "kernelspec": {
   "display_name": "Python 3 (ipykernel)",
   "language": "python",
   "name": "python3"
  },
  "language_info": {
   "codemirror_mode": {
    "name": "ipython",
    "version": 3
   },
   "file_extension": ".py",
   "mimetype": "text/x-python",
   "name": "python",
   "nbconvert_exporter": "python",
   "pygments_lexer": "ipython3",
   "version": "3.10.9"
  }
 },
 "nbformat": 4,
 "nbformat_minor": 5
}
