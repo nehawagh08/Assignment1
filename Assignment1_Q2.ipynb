{
 "cells": [
  {
   "cell_type": "code",
   "execution_count": 6,
   "id": "452adfb0-7c82-479d-b072-d2d998135592",
   "metadata": {},
   "outputs": [
    {
     "name": "stdin",
     "output_type": "stream",
     "text": [
      " Neha\n"
     ]
    },
    {
     "name": "stdout",
     "output_type": "stream",
     "text": [
      "aheN\n"
     ]
    }
   ],
   "source": [
    "#Write a Python program that accepts a word from the user and reverse it.\n",
    "'''\n",
    "Sample Test Case\n",
    "Input : Edyoda\n",
    "output: adoydE\n",
    "'''\n",
    "inp=input()\n",
    "new=\"\"\n",
    "for i in range(len(inp)-1,-1,-1):\n",
    "    new=new+inp[i]\n",
    "print(\"reverse of the input is :\",new)"
   ]
  },
  {
   "cell_type": "code",
   "execution_count": null,
   "id": "e67eb82d-3ac6-4de9-93a2-884ccc97739e",
   "metadata": {},
   "outputs": [],
   "source": []
  }
 ],
 "metadata": {
  "kernelspec": {
   "display_name": "Python 3 (ipykernel)",
   "language": "python",
   "name": "python3"
  },
  "language_info": {
   "codemirror_mode": {
    "name": "ipython",
    "version": 3
   },
   "file_extension": ".py",
   "mimetype": "text/x-python",
   "name": "python",
   "nbconvert_exporter": "python",
   "pygments_lexer": "ipython3",
   "version": "3.10.9"
  }
 },
 "nbformat": 4,
 "nbformat_minor": 5
}
